{
 "cells": [
  {
   "cell_type": "code",
   "execution_count": 1,
   "metadata": {},
   "outputs": [],
   "source": [
    "import numpy as np\n",
    "import pandas as pd\n",
    "from matplotlib import pyplot as plt\n",
    "\n",
    "data = pd.read_csv('data/train.csv')\n",
    "data_test = pd.read_csv('data/test.csv')"
   ]
  },
  {
   "cell_type": "code",
   "execution_count": 2,
   "metadata": {},
   "outputs": [],
   "source": [
    "\n",
    "data = np.array(data)\n",
    "data_test = np.array(data_test)\n",
    "\n",
    "m, n = data.shape\n",
    "m_test, n_test = data_test.shape\n",
    "\n",
    "data_dev = data[0:1000].T\n",
    "data_test = data_test.T\n",
    "data_train = data[1000:m].T\n",
    "\n",
    "Y_dev = data_train[0]\n",
    "X_dev = data_train[1:n]\n",
    "X_dev = X_dev / 255\n",
    "\n",
    "X_test = data_test / 255\n",
    "\n",
    "Y_train = data_train[0]\n",
    "X_train = data_train[1:n]\n",
    "X_train = X_train / 255\n",
    "_, m_train = X_train.shape"
   ]
  },
  {
   "cell_type": "code",
   "execution_count": 3,
   "metadata": {},
   "outputs": [],
   "source": [
    "\n",
    "def init_params():\n",
    "    W1 = np.random.rand(10, 784) - 0.5\n",
    "    b1 = np.random.rand(10, 1) - 0.5\n",
    "    W2 = np.random.rand(10, 10) - 0.5\n",
    "    b2 = np.random.rand(10, 1) - 0.5\n",
    "    return W1, b1, W2, b2\n",
    "\n",
    "\n",
    "\n",
    "def ReLU(Z):\n",
    "    return np.maximum(Z, 0)\n",
    "\n",
    "\n",
    "def softmax(Z):\n",
    "    A = np.exp(Z) / sum(np.exp(Z))\n",
    "    return A\n",
    "\n",
    "\n",
    "def forward_prop(W1, b1, W2, b2, X):\n",
    "    Z1 = W1.dot(X) + b1\n",
    "    A1 = ReLU(Z1)\n",
    "    Z2 = W2.dot(A1) + b2\n",
    "    A2 = softmax(Z2)\n",
    "    return Z1, A1, Z2, A2\n",
    "\n",
    "\n",
    "def ReLU_deriv(Z):\n",
    "    return Z > 0\n",
    "\n",
    "\n",
    "def one_hot(Y):\n",
    "    one_hot_Y = np.zeros((Y.size, Y.max() + 1))\n",
    "    one_hot_Y[np.arange(Y.size), Y] = 1\n",
    "    one_hot_Y = one_hot_Y.T\n",
    "    return one_hot_Y\n",
    "\n",
    "\n",
    "def backward_prop(Z1, A1, Z2, A2, W1, W2, X, Y):\n",
    "    one_hot_Y = one_hot(Y)\n",
    "    dZ2 = A2 - one_hot_Y\n",
    "    dW2 = 1 / m * dZ2.dot(A1.T)\n",
    "    db2 = 1 / m * np.sum(dZ2)\n",
    "    dZ1 = W2.T.dot(dZ2) * ReLU_deriv(Z1)\n",
    "    dW1 = 1 / m * dZ1.dot(X.T)\n",
    "    db1 = 1 / m * np.sum(dZ1)\n",
    "    return dW1, db1, dW2, db2\n",
    "\n",
    "\n",
    "def update_params(W1, b1, W2, b2, dW1, db1, dW2, db2, alpha):\n",
    "    W1 = W1 - alpha * dW1\n",
    "    b1 = b1 - alpha * db1\n",
    "    W2 = W2 - alpha * dW2\n",
    "    b2 = b2 - alpha * db2\n",
    "    return W1, b1, W2, b2\n",
    "\n",
    "\n",
    "def get_predictions(A2):\n",
    "    return np.argmax(A2, 0)\n",
    "\n",
    "\n",
    "def get_accuracy(predictions, Y):\n",
    "    print(predictions, Y)\n",
    "    return np.sum(predictions == Y) / Y.size\n",
    "\n",
    "\n",
    "def gradient_descent(X, Y, alpha, iterations):\n",
    "    W1, b1, W2, b2 = init_params()\n",
    "    for i in range(iterations):\n",
    "        Z1, A1, Z2, A2 = forward_prop(W1, b1, W2, b2, X)\n",
    "        dW1, db1, dW2, db2 = backward_prop(Z1, A1, Z2, A2, W1, W2, X, Y)\n",
    "        W1, b1, W2, b2 = update_params(\n",
    "            W1, b1, W2, b2, dW1, db1, dW2, db2, alpha)\n",
    "        if i % 10 == 0:\n",
    "            print(\"Iteration: \", i)\n",
    "            predictions = get_predictions(A2)\n",
    "            print(get_accuracy(predictions, Y))\n",
    "    return W1, b1, W2, b2\n",
    "\n",
    "\n",
    "def make_predictions(X, W1, b1, W2, b2):\n",
    "    _, _, _, A2 = forward_prop(W1, b1, W2, b2, X)\n",
    "    predictions = get_predictions(A2)\n",
    "    return predictions\n",
    "\n",
    "\n",
    "def test_prediction(index, W1, b1, W2, b2):\n",
    "    current_image = X_train[:, index, None]\n",
    "    prediction = make_predictions(X_train[:, index, None], W1, b1, W2, b2)\n",
    "    label = Y_train[index]\n",
    "    print(\"Prediction: \", prediction)\n",
    "    print(\"Label: \", label)\n",
    "\n",
    "    current_image = current_image.reshape((28, 28)) * 255\n",
    "    plt.gray()\n",
    "    plt.imshow(current_image, interpolation='nearest')\n",
    "    plt.show()\n",
    "\n",
    "\n",
    "def blind_prediction(index, W1, b1, W2, b2):\n",
    "    current_image = X_test[:, index, None]\n",
    "    prediction = make_predictions(X_test[:, index, None], W1, b1, W2, b2)\n",
    "    print(\"Prediction: \", prediction)\n",
    "\n",
    "    current_image = current_image.reshape((28, 28)) * 255\n",
    "    plt.gray()\n",
    "    plt.imshow(current_image, interpolation='nearest')\n",
    "    plt.show()"
   ]
  },
  {
   "cell_type": "code",
   "execution_count": 4,
   "metadata": {},
   "outputs": [
    {
     "name": "stdout",
     "output_type": "stream",
     "text": [
      "Iteration:  0\n",
      "[4 7 4 ... 4 8 7] [1 5 1 ... 7 6 9]\n",
      "0.06424390243902439\n",
      "Iteration:  10\n",
      "[4 2 1 ... 7 7 6] [1 5 1 ... 7 6 9]\n",
      "0.1675609756097561\n",
      "Iteration:  20\n",
      "[4 2 1 ... 7 2 6] [1 5 1 ... 7 6 9]\n",
      "0.23958536585365853\n",
      "Iteration:  30\n",
      "[1 2 1 ... 7 0 6] [1 5 1 ... 7 6 9]\n",
      "0.3011219512195122\n",
      "Iteration:  40\n",
      "[1 6 1 ... 7 2 6] [1 5 1 ... 7 6 9]\n",
      "0.3748292682926829\n",
      "Iteration:  50\n",
      "[1 6 1 ... 7 2 2] [1 5 1 ... 7 6 9]\n",
      "0.44546341463414635\n",
      "Iteration:  60\n",
      "[1 6 1 ... 7 2 2] [1 5 1 ... 7 6 9]\n",
      "0.5031219512195122\n",
      "Iteration:  70\n",
      "[1 6 1 ... 7 2 2] [1 5 1 ... 7 6 9]\n",
      "0.5513170731707318\n",
      "Iteration:  80\n",
      "[1 6 1 ... 7 6 2] [1 5 1 ... 7 6 9]\n",
      "0.5900975609756097\n",
      "Iteration:  90\n",
      "[1 6 1 ... 7 6 8] [1 5 1 ... 7 6 9]\n",
      "0.6198780487804878\n",
      "Iteration:  100\n",
      "[1 6 1 ... 7 6 8] [1 5 1 ... 7 6 9]\n",
      "0.6449512195121951\n",
      "Iteration:  110\n",
      "[1 6 1 ... 7 6 8] [1 5 1 ... 7 6 9]\n",
      "0.6645853658536586\n",
      "Iteration:  120\n",
      "[1 6 1 ... 7 6 8] [1 5 1 ... 7 6 9]\n",
      "0.6823414634146342\n",
      "Iteration:  130\n",
      "[1 6 1 ... 7 6 8] [1 5 1 ... 7 6 9]\n",
      "0.696780487804878\n",
      "Iteration:  140\n",
      "[1 6 1 ... 7 6 8] [1 5 1 ... 7 6 9]\n",
      "0.7082195121951219\n",
      "Iteration:  150\n",
      "[1 6 1 ... 7 6 8] [1 5 1 ... 7 6 9]\n",
      "0.7181463414634146\n",
      "Iteration:  160\n",
      "[1 6 1 ... 7 6 8] [1 5 1 ... 7 6 9]\n",
      "0.7276341463414634\n",
      "Iteration:  170\n",
      "[1 6 1 ... 7 6 8] [1 5 1 ... 7 6 9]\n",
      "0.7362926829268293\n",
      "Iteration:  180\n",
      "[1 6 1 ... 7 6 8] [1 5 1 ... 7 6 9]\n",
      "0.7439512195121951\n",
      "Iteration:  190\n",
      "[1 6 1 ... 7 6 8] [1 5 1 ... 7 6 9]\n",
      "0.7507317073170732\n",
      "Iteration:  200\n",
      "[1 6 1 ... 7 6 8] [1 5 1 ... 7 6 9]\n",
      "0.7564390243902439\n",
      "Iteration:  210\n",
      "[1 6 1 ... 7 6 8] [1 5 1 ... 7 6 9]\n",
      "0.762219512195122\n",
      "Iteration:  220\n",
      "[1 6 1 ... 7 6 8] [1 5 1 ... 7 6 9]\n",
      "0.7678048780487805\n",
      "Iteration:  230\n",
      "[1 6 1 ... 7 6 8] [1 5 1 ... 7 6 9]\n",
      "0.7728780487804878\n",
      "Iteration:  240\n",
      "[1 6 1 ... 7 6 8] [1 5 1 ... 7 6 9]\n",
      "0.7769512195121951\n",
      "Iteration:  250\n",
      "[1 6 1 ... 7 6 8] [1 5 1 ... 7 6 9]\n",
      "0.7815365853658537\n",
      "Iteration:  260\n",
      "[1 6 1 ... 7 6 8] [1 5 1 ... 7 6 9]\n",
      "0.7848536585365854\n",
      "Iteration:  270\n",
      "[1 6 1 ... 7 6 9] [1 5 1 ... 7 6 9]\n",
      "0.7883658536585366\n",
      "Iteration:  280\n",
      "[1 6 1 ... 7 6 9] [1 5 1 ... 7 6 9]\n",
      "0.7920243902439025\n",
      "Iteration:  290\n",
      "[1 6 1 ... 7 6 9] [1 5 1 ... 7 6 9]\n",
      "0.7953658536585366\n",
      "Iteration:  300\n",
      "[1 6 1 ... 7 6 9] [1 5 1 ... 7 6 9]\n",
      "0.798829268292683\n",
      "Iteration:  310\n",
      "[1 6 1 ... 7 6 9] [1 5 1 ... 7 6 9]\n",
      "0.8023170731707318\n",
      "Iteration:  320\n",
      "[1 6 1 ... 7 6 9] [1 5 1 ... 7 6 9]\n",
      "0.804829268292683\n",
      "Iteration:  330\n",
      "[1 6 1 ... 7 6 9] [1 5 1 ... 7 6 9]\n",
      "0.8075853658536586\n",
      "Iteration:  340\n",
      "[1 6 1 ... 7 6 9] [1 5 1 ... 7 6 9]\n",
      "0.8104634146341464\n",
      "Iteration:  350\n",
      "[1 6 1 ... 7 6 9] [1 5 1 ... 7 6 9]\n",
      "0.813170731707317\n",
      "Iteration:  360\n",
      "[1 6 1 ... 7 6 9] [1 5 1 ... 7 6 9]\n",
      "0.8154878048780487\n",
      "Iteration:  370\n",
      "[1 6 1 ... 7 6 9] [1 5 1 ... 7 6 9]\n",
      "0.818\n",
      "Iteration:  380\n",
      "[1 6 1 ... 7 6 9] [1 5 1 ... 7 6 9]\n",
      "0.8205853658536585\n",
      "Iteration:  390\n",
      "[1 6 1 ... 7 6 9] [1 5 1 ... 7 6 9]\n",
      "0.8227560975609756\n",
      "Iteration:  400\n",
      "[1 6 1 ... 7 6 9] [1 5 1 ... 7 6 9]\n",
      "0.8252682926829268\n",
      "Iteration:  410\n",
      "[1 6 1 ... 7 6 9] [1 5 1 ... 7 6 9]\n",
      "0.8269024390243902\n",
      "Iteration:  420\n",
      "[1 6 1 ... 7 6 9] [1 5 1 ... 7 6 9]\n",
      "0.8287073170731707\n",
      "Iteration:  430\n",
      "[1 6 1 ... 7 6 9] [1 5 1 ... 7 6 9]\n",
      "0.8307560975609756\n",
      "Iteration:  440\n",
      "[1 6 1 ... 7 6 9] [1 5 1 ... 7 6 9]\n",
      "0.8328536585365853\n",
      "Iteration:  450\n",
      "[1 6 1 ... 7 6 9] [1 5 1 ... 7 6 9]\n",
      "0.8345365853658536\n",
      "Iteration:  460\n",
      "[1 6 1 ... 7 6 9] [1 5 1 ... 7 6 9]\n",
      "0.8361219512195122\n",
      "Iteration:  470\n",
      "[1 6 1 ... 7 6 9] [1 5 1 ... 7 6 9]\n",
      "0.8380975609756097\n",
      "Iteration:  480\n",
      "[1 6 1 ... 7 6 9] [1 5 1 ... 7 6 9]\n",
      "0.8395121951219512\n",
      "Iteration:  490\n",
      "[1 6 1 ... 7 6 9] [1 5 1 ... 7 6 9]\n",
      "0.8408780487804878\n",
      "Iteration:  500\n",
      "[1 6 1 ... 7 6 9] [1 5 1 ... 7 6 9]\n",
      "0.8426585365853658\n",
      "Iteration:  510\n",
      "[1 6 1 ... 7 6 9] [1 5 1 ... 7 6 9]\n",
      "0.8441463414634146\n",
      "Iteration:  520\n",
      "[1 6 1 ... 7 6 9] [1 5 1 ... 7 6 9]\n",
      "0.8452926829268292\n",
      "Iteration:  530\n",
      "[1 6 1 ... 7 6 9] [1 5 1 ... 7 6 9]\n",
      "0.8464634146341463\n",
      "Iteration:  540\n",
      "[1 6 1 ... 7 6 9] [1 5 1 ... 7 6 9]\n",
      "0.8475853658536585\n",
      "Iteration:  550\n",
      "[1 6 1 ... 7 6 9] [1 5 1 ... 7 6 9]\n",
      "0.8488780487804878\n",
      "Iteration:  560\n",
      "[1 6 1 ... 7 6 9] [1 5 1 ... 7 6 9]\n",
      "0.8503170731707317\n",
      "Iteration:  570\n",
      "[1 6 1 ... 7 6 9] [1 5 1 ... 7 6 9]\n",
      "0.8514878048780488\n",
      "Iteration:  580\n",
      "[1 6 1 ... 7 6 9] [1 5 1 ... 7 6 9]\n",
      "0.8525853658536585\n",
      "Iteration:  590\n",
      "[1 6 1 ... 7 6 9] [1 5 1 ... 7 6 9]\n",
      "0.853609756097561\n"
     ]
    }
   ],
   "source": [
    "W1, b1, W2, b2 = gradient_descent(X_train, Y_train, 0.10, 600)"
   ]
  },
  {
   "cell_type": "code",
   "execution_count": 5,
   "metadata": {},
   "outputs": [
    {
     "name": "stdout",
     "output_type": "stream",
     "text": [
      "Prediction:  [1]\n",
      "Label:  1\n"
     ]
    },
    {
     "data": {
      "image/png": "[encoded data removed]",
      "text/plain": [
       "<Figure size 640x480 with 1 Axes>"
      ]
     },
     "metadata": {},
     "output_type": "display_data"
    },
    {
     "name": "stdout",
     "output_type": "stream",
     "text": [
      "Prediction:  [6]\n",
      "Label:  5\n"
     ]
    },
    {
     "data": {
      "image/png": "[encoded data removed]",
      "text/plain": [
       "<Figure size 640x480 with 1 Axes>"
      ]
     },
     "metadata": {},
     "output_type": "display_data"
    },
    {
     "name": "stdout",
     "output_type": "stream",
     "text": [
      "Prediction:  [1]\n",
      "Label:  1\n"
     ]
    },
    {
     "data": {
      "image/png": "[encoded data removed]",
      "text/plain": [
       "<Figure size 640x480 with 1 Axes>"
      ]
     },
     "metadata": {},
     "output_type": "display_data"
    },
    {
     "name": "stdout",
     "output_type": "stream",
     "text": [
      "Prediction:  [7]\n",
      "Label:  7\n"
     ]
    },
    {
     "data": {
      "image/png": "[encoded data removed]",
      "text/plain": [
       "<Figure size 640x480 with 1 Axes>"
      ]
     },
     "metadata": {},
     "output_type": "display_data"
    },
    {
     "name": "stdout",
     "output_type": "stream",
     "text": [
      "Prediction:  [4]\n",
      "Label:  4\n"
     ]
    },
    {
     "data": {
      "image/png": "[encoded data removed]",
      "text/plain": [
       "<Figure size 640x480 with 1 Axes>"
      ]
     },
     "metadata": {},
     "output_type": "display_data"
    },
    {
     "name": "stdout",
     "output_type": "stream",
     "text": [
      "Prediction:  [8]\n",
      "Label:  8\n"
     ]
    },
    {
     "data": {
      "image/png": "[encoded data removed]",
      "text/plain": [
       "<Figure size 640x480 with 1 Axes>"
      ]
     },
     "metadata": {},
     "output_type": "display_data"
    },
    {
     "name": "stdout",
     "output_type": "stream",
     "text": [
      "Prediction:  [9]\n",
      "Label:  9\n"
     ]
    },
    {
     "data": {
      "image/png": "[encoded data removed]",
      "text/plain": [
       "<Figure size 640x480 with 1 Axes>"
      ]
     },
     "metadata": {},
     "output_type": "display_data"
    }
   ],
   "source": [
    "\n",
    "test_prediction(0, W1, b1, W2, b2)\n",
    "test_prediction(1, W1, b1, W2, b2)\n",
    "test_prediction(2, W1, b1, W2, b2)\n",
    "test_prediction(3, W1, b1, W2, b2)\n",
    "test_prediction(4, W1, b1, W2, b2)\n",
    "test_prediction(5, W1, b1, W2, b2)\n",
    "test_prediction(6, W1, b1, W2, b2)"
   ]
  },
  {
   "cell_type": "code",
   "execution_count": 6,
   "metadata": {},
   "outputs": [
    {
     "name": "stdout",
     "output_type": "stream",
     "text": [
      "Prediction:  [9]\n"
     ]
    },
    {
     "data": {
      "image/png": "[encoded data removed]",
      "text/plain": [
       "<Figure size 640x480 with 1 Axes>"
      ]
     },
     "metadata": {},
     "output_type": "display_data"
    },
    {
     "name": "stdout",
     "output_type": "stream",
     "text": [
      "Prediction:  [8]\n"
     ]
    },
    {
     "data": {
      "image/png": "[encoded data removed]",
      "text/plain": [
       "<Figure size 640x480 with 1 Axes>"
      ]
     },
     "metadata": {},
     "output_type": "display_data"
    },
    {
     "name": "stdout",
     "output_type": "stream",
     "text": [
      "Prediction:  [4]\n"
     ]
    },
    {
     "data": {
      "image/png": "[encoded data removed]",
      "text/plain": [
       "<Figure size 640x480 with 1 Axes>"
      ]
     },
     "metadata": {},
     "output_type": "display_data"
    }
   ],
   "source": [
    "\n",
    "blind_prediction(67, W1, b1, W2, b2)\n",
    "blind_prediction(47, W1, b1, W2, b2)\n",
    "blind_prediction(14, W1, b1, W2, b2)\n"
   ]
  },
  {
   "cell_type": "code",
   "execution_count": 7,
   "metadata": {},
   "outputs": [
    {
     "name": "stdout",
     "output_type": "stream",
     "text": [
      "[1 6 1 ... 7 6 9] [1 5 1 ... 7 6 9]\n",
      "0.8546829268292683\n"
     ]
    }
   ],
   "source": [
    "dev_predictions = make_predictions(X_dev, W1, b1, W2, b2)\n",
    "print(get_accuracy(dev_predictions, Y_dev))"
   ]
  }
 ],
 "metadata": {
  "kernelspec": {
   "display_name": "ai-project",
   "language": "python",
   "name": "python3"
  },
  "language_info": {
   "codemirror_mode": {
    "name": "ipython",
    "version": 3
   },
   "file_extension": ".py",
   "mimetype": "text/x-python",
   "name": "python",
   "nbconvert_exporter": "python",
   "pygments_lexer": "ipython3",
   "version": "3.10.10"
  },
  "orig_nbformat": 4
 },
 "nbformat": 4,
 "nbformat_minor": 2
}
