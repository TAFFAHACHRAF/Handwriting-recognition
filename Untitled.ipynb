{
 "cells": [
  {
   "cell_type": "code",
   "execution_count": 2,
   "id": "4e4c3f26",
   "metadata": {},
   "outputs": [],
   "source": [
    "import numpy as np\n",
    "import pandas as pd\n",
    "from matplotlib import pyplot as plt\n",
    "data = pd.read_csv('train.csv')"
   ]
  },
  {
   "cell_type": "code",
   "execution_count": 3,
   "id": "a50d3bdd",
   "metadata": {},
   "outputs": [],
   "source": [
    "data = np.array(data)\n",
    "m, n = data.shape\n",
    "np.random.shuffle(data) # shuffle before splitting into dev and training sets\n",
    "\n",
    "data_dev = data[0:1000].T\n",
    "Y_dev = data_dev[0]\n",
    "X_dev = data_dev[1:n]\n",
    "X_dev = X_dev / 255.\n",
    "\n",
    "data_train = data[1000:m].T\n",
    "Y_train = data_train[0]\n",
    "X_train = data_train[1:n]\n",
    "X_train = X_train / 255.\n",
    "_,m_train = X_train.shape"
   ]
  },
  {
   "cell_type": "code",
   "execution_count": 4,
   "id": "7d35eaaf",
   "metadata": {},
   "outputs": [
    {
     "data": {
      "text/plain": [
       "array([7, 7, 1, ..., 4, 1, 7], dtype=int64)"
      ]
     },
     "execution_count": 4,
     "metadata": {},
     "output_type": "execute_result"
    }
   ],
   "source": [
    "Y_train"
   ]
  },
  {
   "cell_type": "code",
   "execution_count": 5,
   "id": "b4ac29f1",
   "metadata": {},
   "outputs": [],
   "source": [
    "def init_params():\n",
    "    W1 = np.random.rand(10, 784) - 0.5\n",
    "    b1 = np.random.rand(10, 1) - 0.5\n",
    "    W2 = np.random.rand(10, 10) - 0.5\n",
    "    b2 = np.random.rand(10, 1) - 0.5\n",
    "    return W1, b1, W2, b2\n",
    "\n",
    "def ReLU(Z):\n",
    "    return np.maximum(Z, 0)\n",
    "\n",
    "def softmax(Z):\n",
    "    A = np.exp(Z) / sum(np.exp(Z))\n",
    "    return A\n",
    "    \n",
    "def forward_prop(W1, b1, W2, b2, X):\n",
    "    Z1 = W1.dot(X) + b1\n",
    "    A1 = ReLU(Z1)\n",
    "    Z2 = W2.dot(A1) + b2\n",
    "    A2 = softmax(Z2)\n",
    "    return Z1, A1, Z2, A2\n",
    "\n",
    "def ReLU_deriv(Z):\n",
    "    return Z > 0\n",
    "\n",
    "def one_hot(Y):\n",
    "    one_hot_Y = np.zeros((Y.size, Y.max() + 1))\n",
    "    one_hot_Y[np.arange(Y.size), Y] = 1\n",
    "    one_hot_Y = one_hot_Y.T\n",
    "    return one_hot_Y\n",
    "\n",
    "def backward_prop(Z1, A1, Z2, A2, W1, W2, X, Y):\n",
    "    one_hot_Y = one_hot(Y)\n",
    "    dZ2 = A2 - one_hot_Y\n",
    "    dW2 = 1 / m * dZ2.dot(A1.T)\n",
    "    db2 = 1 / m * np.sum(dZ2)\n",
    "    dZ1 = W2.T.dot(dZ2) * ReLU_deriv(Z1)\n",
    "    dW1 = 1 / m * dZ1.dot(X.T)\n",
    "    db1 = 1 / m * np.sum(dZ1)\n",
    "    return dW1, db1, dW2, db2\n",
    "\n",
    "def update_params(W1, b1, W2, b2, dW1, db1, dW2, db2, alpha):\n",
    "    W1 = W1 - alpha * dW1\n",
    "    b1 = b1 - alpha * db1    \n",
    "    W2 = W2 - alpha * dW2  \n",
    "    b2 = b2 - alpha * db2    \n",
    "    return W1, b1, W2, b2"
   ]
  },
  {
   "cell_type": "code",
   "execution_count": 6,
   "id": "c9043e20",
   "metadata": {},
   "outputs": [],
   "source": [
    "def get_predictions(A2):\n",
    "    return np.argmax(A2, 0)\n",
    "\n",
    "def get_accuracy(predictions, Y):\n",
    "    print(predictions, Y)\n",
    "    return np.sum(predictions == Y) / Y.size\n",
    "\n",
    "def gradient_descent(X, Y, alpha, iterations):\n",
    "    W1, b1, W2, b2 = init_params()\n",
    "    for i in range(iterations):\n",
    "        Z1, A1, Z2, A2 = forward_prop(W1, b1, W2, b2, X)\n",
    "        dW1, db1, dW2, db2 = backward_prop(Z1, A1, Z2, A2, W1, W2, X, Y)\n",
    "        W1, b1, W2, b2 = update_params(W1, b1, W2, b2, dW1, db1, dW2, db2, alpha)\n",
    "        if i % 10 == 0:\n",
    "            print(\"Iteration: \", i)\n",
    "            predictions = get_predictions(A2)\n",
    "            print(get_accuracy(predictions, Y))\n",
    "    return W1, b1, W2, b2"
   ]
  },
  {
   "cell_type": "code",
   "execution_count": 8,
   "id": "b652bb31",
   "metadata": {},
   "outputs": [
    {
     "name": "stdout",
     "output_type": "stream",
     "text": [
      "Iteration:  0\n",
      "[8 3 9 ... 7 8 3] [7 7 1 ... 4 1 7]\n",
      "0.1161219512195122\n",
      "Iteration:  10\n",
      "[4 3 1 ... 5 1 3] [7 7 1 ... 4 1 7]\n",
      "0.2867560975609756\n",
      "Iteration:  20\n",
      "[4 3 1 ... 5 1 3] [7 7 1 ... 4 1 7]\n",
      "0.3683170731707317\n",
      "Iteration:  30\n",
      "[4 6 1 ... 7 1 7] [7 7 1 ... 4 1 7]\n",
      "0.4249512195121951\n",
      "Iteration:  40\n",
      "[4 6 1 ... 9 1 7] [7 7 1 ... 4 1 7]\n",
      "0.4729512195121951\n",
      "Iteration:  50\n",
      "[4 6 1 ... 9 1 7] [7 7 1 ... 4 1 7]\n",
      "0.5128780487804878\n",
      "Iteration:  60\n",
      "[4 6 1 ... 9 1 7] [7 7 1 ... 4 1 7]\n",
      "0.5487560975609757\n",
      "Iteration:  70\n",
      "[4 8 1 ... 9 1 7] [7 7 1 ... 4 1 7]\n",
      "0.5794878048780487\n",
      "Iteration:  80\n",
      "[7 8 1 ... 9 1 7] [7 7 1 ... 4 1 7]\n",
      "0.6080731707317073\n",
      "Iteration:  90\n",
      "[7 7 1 ... 9 1 7] [7 7 1 ... 4 1 7]\n",
      "0.6347073170731707\n",
      "Iteration:  100\n",
      "[7 7 1 ... 4 1 7] [7 7 1 ... 4 1 7]\n",
      "0.6581219512195122\n",
      "Iteration:  110\n",
      "[7 7 1 ... 4 1 7] [7 7 1 ... 4 1 7]\n",
      "0.679\n",
      "Iteration:  120\n",
      "[7 7 1 ... 4 1 7] [7 7 1 ... 4 1 7]\n",
      "0.6930487804878048\n",
      "Iteration:  130\n",
      "[7 7 1 ... 4 1 7] [7 7 1 ... 4 1 7]\n",
      "0.7067560975609756\n",
      "Iteration:  140\n",
      "[7 7 1 ... 4 1 7] [7 7 1 ... 4 1 7]\n",
      "0.7177317073170731\n",
      "Iteration:  150\n",
      "[7 7 1 ... 4 1 7] [7 7 1 ... 4 1 7]\n",
      "0.7281463414634146\n",
      "Iteration:  160\n",
      "[7 7 1 ... 4 1 7] [7 7 1 ... 4 1 7]\n",
      "0.7386341463414634\n",
      "Iteration:  170\n",
      "[7 7 1 ... 4 1 7] [7 7 1 ... 4 1 7]\n",
      "0.747609756097561\n",
      "Iteration:  180\n",
      "[7 7 1 ... 4 1 7] [7 7 1 ... 4 1 7]\n",
      "0.7554146341463415\n",
      "Iteration:  190\n",
      "[7 7 1 ... 4 1 7] [7 7 1 ... 4 1 7]\n",
      "0.7620731707317073\n",
      "Iteration:  200\n",
      "[7 7 1 ... 4 1 7] [7 7 1 ... 4 1 7]\n",
      "0.7683658536585366\n",
      "Iteration:  210\n",
      "[7 7 1 ... 4 1 7] [7 7 1 ... 4 1 7]\n",
      "0.7743658536585366\n",
      "Iteration:  220\n",
      "[7 7 1 ... 4 1 7] [7 7 1 ... 4 1 7]\n",
      "0.7795853658536586\n",
      "Iteration:  230\n",
      "[7 7 1 ... 4 1 7] [7 7 1 ... 4 1 7]\n",
      "0.7844634146341464\n",
      "Iteration:  240\n",
      "[7 7 1 ... 4 1 7] [7 7 1 ... 4 1 7]\n",
      "0.7893414634146342\n",
      "Iteration:  250\n",
      "[7 7 1 ... 4 1 7] [7 7 1 ... 4 1 7]\n",
      "0.7937804878048781\n",
      "Iteration:  260\n",
      "[7 7 1 ... 4 1 7] [7 7 1 ... 4 1 7]\n",
      "0.797829268292683\n",
      "Iteration:  270\n",
      "[7 7 1 ... 4 1 7] [7 7 1 ... 4 1 7]\n",
      "0.8015609756097561\n",
      "Iteration:  280\n",
      "[7 7 1 ... 4 1 7] [7 7 1 ... 4 1 7]\n",
      "0.8050243902439025\n",
      "Iteration:  290\n",
      "[7 7 1 ... 4 1 7] [7 7 1 ... 4 1 7]\n",
      "0.8079756097560976\n",
      "Iteration:  300\n",
      "[7 7 1 ... 4 1 7] [7 7 1 ... 4 1 7]\n",
      "0.8109512195121952\n",
      "Iteration:  310\n",
      "[7 7 1 ... 4 1 7] [7 7 1 ... 4 1 7]\n",
      "0.8136341463414634\n",
      "Iteration:  320\n",
      "[7 7 1 ... 4 1 7] [7 7 1 ... 4 1 7]\n",
      "0.8167073170731707\n",
      "Iteration:  330\n",
      "[7 7 1 ... 4 1 7] [7 7 1 ... 4 1 7]\n",
      "0.8193170731707317\n",
      "Iteration:  340\n",
      "[7 7 1 ... 4 1 7] [7 7 1 ... 4 1 7]\n",
      "0.8217073170731707\n",
      "Iteration:  350\n",
      "[7 7 1 ... 4 1 7] [7 7 1 ... 4 1 7]\n",
      "0.8241463414634146\n",
      "Iteration:  360\n",
      "[7 7 1 ... 4 1 7] [7 7 1 ... 4 1 7]\n",
      "0.826560975609756\n",
      "Iteration:  370\n",
      "[7 7 1 ... 4 1 7] [7 7 1 ... 4 1 7]\n",
      "0.8286585365853658\n",
      "Iteration:  380\n",
      "[7 7 1 ... 4 1 7] [7 7 1 ... 4 1 7]\n",
      "0.830780487804878\n",
      "Iteration:  390\n",
      "[7 7 1 ... 4 1 7] [7 7 1 ... 4 1 7]\n",
      "0.8326829268292683\n",
      "Iteration:  400\n",
      "[7 7 1 ... 4 1 7] [7 7 1 ... 4 1 7]\n",
      "0.834390243902439\n",
      "Iteration:  410\n",
      "[7 7 1 ... 4 1 7] [7 7 1 ... 4 1 7]\n",
      "0.8361219512195122\n",
      "Iteration:  420\n",
      "[7 7 1 ... 4 1 7] [7 7 1 ... 4 1 7]\n",
      "0.8377317073170731\n",
      "Iteration:  430\n",
      "[7 7 1 ... 4 1 7] [7 7 1 ... 4 1 7]\n",
      "0.8391463414634146\n",
      "Iteration:  440\n",
      "[7 7 1 ... 4 1 7] [7 7 1 ... 4 1 7]\n",
      "0.8409512195121951\n",
      "Iteration:  450\n",
      "[7 7 1 ... 4 1 7] [7 7 1 ... 4 1 7]\n",
      "0.8422439024390244\n",
      "Iteration:  460\n",
      "[7 7 1 ... 4 1 7] [7 7 1 ... 4 1 7]\n",
      "0.8434634146341463\n",
      "Iteration:  470\n",
      "[7 7 1 ... 4 1 7] [7 7 1 ... 4 1 7]\n",
      "0.8448048780487805\n",
      "Iteration:  480\n",
      "[7 7 1 ... 4 1 7] [7 7 1 ... 4 1 7]\n",
      "0.8466341463414634\n",
      "Iteration:  490\n",
      "[7 7 1 ... 4 1 7] [7 7 1 ... 4 1 7]\n",
      "0.8477317073170731\n",
      "Iteration:  500\n",
      "[7 7 1 ... 4 1 7] [7 7 1 ... 4 1 7]\n",
      "0.8485609756097561\n",
      "Iteration:  510\n",
      "[7 7 1 ... 4 1 7] [7 7 1 ... 4 1 7]\n",
      "0.8498536585365853\n",
      "Iteration:  520\n",
      "[7 7 1 ... 4 1 7] [7 7 1 ... 4 1 7]\n",
      "0.8508048780487805\n",
      "Iteration:  530\n",
      "[7 7 1 ... 4 1 7] [7 7 1 ... 4 1 7]\n",
      "0.8520731707317073\n",
      "Iteration:  540\n",
      "[7 7 1 ... 4 1 7] [7 7 1 ... 4 1 7]\n",
      "0.8532195121951219\n",
      "Iteration:  550\n",
      "[7 7 1 ... 4 1 7] [7 7 1 ... 4 1 7]\n",
      "0.8542439024390244\n",
      "Iteration:  560\n",
      "[7 7 1 ... 4 1 7] [7 7 1 ... 4 1 7]\n",
      "0.8552926829268293\n",
      "Iteration:  570\n",
      "[7 7 1 ... 4 1 7] [7 7 1 ... 4 1 7]\n",
      "0.8561219512195122\n",
      "Iteration:  580\n",
      "[7 7 1 ... 4 1 7] [7 7 1 ... 4 1 7]\n",
      "0.8573170731707317\n",
      "Iteration:  590\n",
      "[7 7 1 ... 4 1 7] [7 7 1 ... 4 1 7]\n",
      "0.8580731707317073\n",
      "Iteration:  600\n",
      "[7 7 1 ... 4 1 7] [7 7 1 ... 4 1 7]\n",
      "0.8587073170731707\n",
      "Iteration:  610\n",
      "[7 7 1 ... 4 1 7] [7 7 1 ... 4 1 7]\n",
      "0.859780487804878\n",
      "Iteration:  620\n",
      "[7 7 1 ... 4 1 7] [7 7 1 ... 4 1 7]\n",
      "0.8607073170731707\n",
      "Iteration:  630\n",
      "[7 7 1 ... 4 1 7] [7 7 1 ... 4 1 7]\n",
      "0.8616341463414634\n",
      "Iteration:  640\n",
      "[7 7 1 ... 4 1 7] [7 7 1 ... 4 1 7]\n",
      "0.8625365853658536\n",
      "Iteration:  650\n",
      "[7 7 1 ... 4 1 7] [7 7 1 ... 4 1 7]\n",
      "0.8634634146341463\n",
      "Iteration:  660\n",
      "[7 7 1 ... 4 1 7] [7 7 1 ... 4 1 7]\n",
      "0.8642195121951219\n",
      "Iteration:  670\n",
      "[7 7 1 ... 4 1 7] [7 7 1 ... 4 1 7]\n",
      "0.865\n",
      "Iteration:  680\n",
      "[7 7 1 ... 4 1 7] [7 7 1 ... 4 1 7]\n",
      "0.8657560975609756\n",
      "Iteration:  690\n",
      "[7 7 1 ... 4 1 7] [7 7 1 ... 4 1 7]\n",
      "0.8662195121951219\n",
      "Iteration:  700\n",
      "[7 7 1 ... 4 1 7] [7 7 1 ... 4 1 7]\n",
      "0.867\n",
      "Iteration:  710\n",
      "[7 7 1 ... 4 1 7] [7 7 1 ... 4 1 7]\n",
      "0.8672195121951219\n",
      "Iteration:  720\n",
      "[7 7 1 ... 4 1 7] [7 7 1 ... 4 1 7]\n",
      "0.8679268292682927\n",
      "Iteration:  730\n",
      "[7 7 1 ... 4 1 7] [7 7 1 ... 4 1 7]\n",
      "0.8685609756097561\n",
      "Iteration:  740\n",
      "[7 7 1 ... 4 1 7] [7 7 1 ... 4 1 7]\n",
      "0.8692926829268293\n",
      "Iteration:  750\n",
      "[7 7 1 ... 4 1 7] [7 7 1 ... 4 1 7]\n",
      "0.8701219512195122\n",
      "Iteration:  760\n",
      "[7 7 1 ... 4 1 7] [7 7 1 ... 4 1 7]\n",
      "0.8705365853658537\n",
      "Iteration:  770\n",
      "[7 7 1 ... 4 1 7] [7 7 1 ... 4 1 7]\n",
      "0.8713414634146341\n",
      "Iteration:  780\n",
      "[7 7 1 ... 4 1 7] [7 7 1 ... 4 1 7]\n",
      "0.8718780487804878\n",
      "Iteration:  790\n",
      "[7 7 1 ... 4 1 7] [7 7 1 ... 4 1 7]\n",
      "0.8723170731707317\n",
      "Iteration:  800\n",
      "[7 7 1 ... 4 1 7] [7 7 1 ... 4 1 7]\n",
      "0.8729024390243902\n",
      "Iteration:  810\n",
      "[7 7 1 ... 4 1 7] [7 7 1 ... 4 1 7]\n",
      "0.8733414634146341\n",
      "Iteration:  820\n",
      "[7 7 1 ... 4 1 7] [7 7 1 ... 4 1 7]\n",
      "0.8738536585365854\n",
      "Iteration:  830\n",
      "[7 7 1 ... 4 1 7] [7 7 1 ... 4 1 7]\n",
      "0.874219512195122\n",
      "Iteration:  840\n",
      "[7 7 1 ... 4 1 7] [7 7 1 ... 4 1 7]\n",
      "0.8745853658536585\n",
      "Iteration:  850\n",
      "[7 7 1 ... 4 1 7] [7 7 1 ... 4 1 7]\n",
      "0.8750487804878049\n",
      "Iteration:  860\n",
      "[7 7 1 ... 4 1 7] [7 7 1 ... 4 1 7]\n",
      "0.8754634146341463\n",
      "Iteration:  870\n",
      "[7 7 1 ... 4 1 7] [7 7 1 ... 4 1 7]\n",
      "0.8758780487804878\n",
      "Iteration:  880\n",
      "[7 7 1 ... 4 1 7] [7 7 1 ... 4 1 7]\n",
      "0.8763414634146341\n",
      "Iteration:  890\n",
      "[7 7 1 ... 4 1 7] [7 7 1 ... 4 1 7]\n",
      "0.8767560975609756\n",
      "Iteration:  900\n",
      "[7 7 1 ... 4 1 7] [7 7 1 ... 4 1 7]\n",
      "0.8771951219512195\n",
      "Iteration:  910\n",
      "[7 7 1 ... 4 1 7] [7 7 1 ... 4 1 7]\n",
      "0.8778292682926829\n",
      "Iteration:  920\n",
      "[7 7 1 ... 4 1 7] [7 7 1 ... 4 1 7]\n",
      "0.8781707317073171\n",
      "Iteration:  930\n",
      "[7 7 1 ... 4 1 7] [7 7 1 ... 4 1 7]\n",
      "0.8785609756097561\n",
      "Iteration:  940\n",
      "[7 7 1 ... 4 1 7] [7 7 1 ... 4 1 7]\n",
      "0.8791707317073171\n",
      "Iteration:  950\n",
      "[7 7 1 ... 4 1 7] [7 7 1 ... 4 1 7]\n",
      "0.8794634146341463\n",
      "Iteration:  960\n",
      "[7 7 1 ... 4 1 7] [7 7 1 ... 4 1 7]\n",
      "0.8798048780487805\n",
      "Iteration:  970\n",
      "[7 7 1 ... 4 1 7] [7 7 1 ... 4 1 7]\n",
      "0.8800975609756098\n",
      "Iteration:  980\n",
      "[7 7 1 ... 4 1 7] [7 7 1 ... 4 1 7]\n",
      "0.8805853658536585\n",
      "Iteration:  990\n",
      "[7 7 1 ... 4 1 7] [7 7 1 ... 4 1 7]\n",
      "0.8809512195121951\n"
     ]
    }
   ],
   "source": [
    "W1, b1, W2, b2 = gradient_descent(X_train, Y_train, 0.10, 1000)"
   ]
  },
  {
   "cell_type": "code",
   "execution_count": 9,
   "id": "355edac3",
   "metadata": {},
   "outputs": [],
   "source": [
    "def make_predictions(X, W1, b1, W2, b2):\n",
    "    _, _, _, A2 = forward_prop(W1, b1, W2, b2, X)\n",
    "    predictions = get_predictions(A2)\n",
    "    return predictions\n",
    "\n",
    "def test_prediction(index, W1, b1, W2, b2):\n",
    "    current_image = X_train[:, index, None]\n",
    "    prediction = make_predictions(X_train[:, index, None], W1, b1, W2, b2)\n",
    "    label = Y_train[index]\n",
    "    print(\"Prediction: \", prediction)\n",
    "    print(\"Label: \", label)\n",
    "    \n",
    "    current_image = current_image.reshape((28, 28)) * 255\n",
    "    plt.gray()\n",
    "    plt.imshow(current_image, interpolation='nearest')\n",
    "    plt.show()"
   ]
  },
  {
   "cell_type": "code",
   "execution_count": 11,
   "id": "30d62b3c",
   "metadata": {},
   "outputs": [
    {
     "name": "stdout",
     "output_type": "stream",
     "text": [
      "Prediction:  [7]\n",
      "Label:  7\n"
     ]
    },
    {
     "data": {
      "image/png": "[encoded data removed]",
      "text/plain": [
       "<Figure size 640x480 with 1 Axes>"
      ]
     },
     "metadata": {},
     "output_type": "display_data"
    },
    {
     "name": "stdout",
     "output_type": "stream",
     "text": [
      "Prediction:  [7]\n",
      "Label:  7\n"
     ]
    },
    {
     "data": {
      "image/png": "[encoded data removed]",
      "text/plain": [
       "<Figure size 640x480 with 1 Axes>"
      ]
     },
     "metadata": {},
     "output_type": "display_data"
    },
    {
     "name": "stdout",
     "output_type": "stream",
     "text": [
      "Prediction:  [1]\n",
      "Label:  1\n"
     ]
    },
    {
     "data": {
      "image/png": "[encoded data removed]",
      "text/plain": [
       "<Figure size 640x480 with 1 Axes>"
      ]
     },
     "metadata": {},
     "output_type": "display_data"
    },
    {
     "name": "stdout",
     "output_type": "stream",
     "text": [
      "Prediction:  [6]\n",
      "Label:  6\n"
     ]
    },
    {
     "data": {
      "image/png": "[encoded data removed]",
      "text/plain": [
       "<Figure size 640x480 with 1 Axes>"
      ]
     },
     "metadata": {},
     "output_type": "display_data"
    },
    {
     "name": "stdout",
     "output_type": "stream",
     "text": [
      "Prediction:  [3]\n",
      "Label:  3\n"
     ]
    },
    {
     "data": {
      "image/png": "[encoded data removed]",
      "text/plain": [
       "<Figure size 640x480 with 1 Axes>"
      ]
     },
     "metadata": {},
     "output_type": "display_data"
    },
    {
     "name": "stdout",
     "output_type": "stream",
     "text": [
      "Prediction:  [9]\n",
      "Label:  8\n"
     ]
    },
    {
     "data": {
      "image/png": "[encoded data removed]",
      "text/plain": [
       "<Figure size 640x480 with 1 Axes>"
      ]
     },
     "metadata": {},
     "output_type": "display_data"
    },
    {
     "name": "stdout",
     "output_type": "stream",
     "text": [
      "Prediction:  [6]\n",
      "Label:  6\n"
     ]
    },
    {
     "data": {
      "image/png": "[encoded data removed]",
      "text/plain": [
       "<Figure size 640x480 with 1 Axes>"
      ]
     },
     "metadata": {},
     "output_type": "display_data"
    },
    {
     "name": "stdout",
     "output_type": "stream",
     "text": [
      "Prediction:  [7]\n",
      "Label:  7\n"
     ]
    },
    {
     "data": {
      "image/png": "[encoded data removed]",
      "text/plain": [
       "<Figure size 640x480 with 1 Axes>"
      ]
     },
     "metadata": {},
     "output_type": "display_data"
    }
   ],
   "source": [
    "test_prediction(0, W1, b1, W2, b2)\n",
    "test_prediction(1, W1, b1, W2, b2)\n",
    "test_prediction(2, W1, b1, W2, b2)\n",
    "test_prediction(3, W1, b1, W2, b2)\n",
    "test_prediction(4, W1, b1, W2, b2)\n",
    "test_prediction(5, W1, b1, W2, b2)\n",
    "test_prediction(6, W1, b1, W2, b2)\n",
    "test_prediction(7, W1, b1, W2, b2)"
   ]
  }
 ],
 "metadata": {
  "kernelspec": {
   "display_name": "Python 3 (ipykernel)",
   "language": "python",
   "name": "python3"
  },
  "language_info": {
   "codemirror_mode": {
    "name": "ipython",
    "version": 3
   },
   "file_extension": ".py",
   "mimetype": "text/x-python",
   "name": "python",
   "nbconvert_exporter": "python",
   "pygments_lexer": "ipython3",
   "version": "3.11.3"
  }
 },
 "nbformat": 4,
 "nbformat_minor": 5
}
